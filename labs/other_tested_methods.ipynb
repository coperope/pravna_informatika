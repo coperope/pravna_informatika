{
 "cells": [
  {
   "cell_type": "code",
   "execution_count": null,
   "metadata": {},
   "outputs": [],
   "source": [
    "# Load data and split\n",
    "\n",
    "from sklearn.model_selection import train_test_split\n",
    "import scipy\n",
    "\n",
    "X = scipy.sparse.load_npz(\"vectors/vectors_stemmed_tf_idf_title_header_recitals.npz\")\n",
    "y = scipy.sparse.load_npz(\"vectors/concepts_stemmed_tf_idf_title_header_recitals.npz\")\n",
    "X_train, X_test, y_train, y_test = train_test_split(X, y, test_size=0.2, random_state=42)\n",
    "print(X_train.shape)"
   ]
  },
  {
   "cell_type": "code",
   "execution_count": null,
   "metadata": {},
   "outputs": [],
   "source": [
    "# XGBoost model\n",
    "# Training stopped at 2.5h hour mark in local\n",
    "# Training stopped at 1h hour mark on cloud\n",
    "# Memory intensive, multiple trainings failed in the process\n",
    "# No convergence, low verbosity\n",
    "\n",
    "import xgboost as xgb\n",
    "from sklearn.multioutput import MultiOutputClassifier\n",
    "from sklearn.metrics import accuracy_score\n",
    "\n",
    "# create XGBoost instance with default hyper-parameters\n",
    "xgb_estimator = xgb.XGBClassifier(objective='binary:logistic', verbosity=3)\n",
    "\n",
    "# create MultiOutputClassifier instance with XGBoost model inside\n",
    "multilabel_model = MultiOutputClassifier(xgb_estimator)\n",
    "\n",
    "# fit the model\n",
    "multilabel_model.fit(X_train.todense(), y_train.todense(), verbose=True)\n",
    "\n",
    "# # evaluate on test data\n",
    "print('Accuracy on test data: {:.1f}%'.format(accuracy_score(y_test, multilabel_model.predict(X_test))*100))"
   ]
  },
  {
   "cell_type": "code",
   "execution_count": null,
   "metadata": {},
   "outputs": [],
   "source": [
    "# KNN addaptation for multi-label problem\n",
    "# No verbosity, tested in cloud, slow to train and use (~1h training)\n",
    "#!pip install scikit-multilearn\n",
    "\n",
    "from skmultilearn.adapt import MLkNN\n",
    "from sklearn.metrics import classification_report\n",
    "\n",
    "classifier = MLkNN(k=3)\n",
    "classifier.fit(X_train, y_train)\n",
    "predictions = classifier.predict(X_test)\n",
    "\n",
    "# Show report\n",
    "import numpy\n",
    "from sklearn.metrics import classification_report\n",
    "y_pred = (predictions > 0.5)\n",
    "print(\"Testing documents: \" + str(X_test.shape[0]))\n",
    "print(\"Concepts in test data: \" + str(len(numpy.unique(numpy.ravel(numpy.argmax((y_test.todense() > 0.5) , axis=1))))))\n",
    "y_pred_bool = numpy.argmax(predictions.todense(), axis=1)\n",
    "print(\"Concepts predicted: \" + str((numpy.unique(numpy.ravel(numpy.argmax((predictions.todense() > 0.5) , axis=1)))).shape[0]))\n",
    "\n",
    "print(classification_report(y_test, predictions, zero_division=0)) # , labels=numpy.unique(y_pred_bool)"
   ]
  },
  {
   "cell_type": "code",
   "execution_count": null,
   "metadata": {},
   "outputs": [],
   "source": [
    "# SVC alghoritm addapted to multi-label problem with MultiOutputClassifier\n",
    "# Training stopped at 3h hour mark on cloud\n",
    "# No convergence, no verbosity to have information about learning\n",
    "\n",
    "from sklearn.svm import SVC\n",
    "from sklearn.multioutput import MultiOutputClassifier\n",
    "\n",
    "svc = SVC(gamma=\"scale\", verbose=True)\n",
    "model = MultiOutputClassifier(estimator=svc)\n",
    "model.fit(X_train.todense(), y_train.todense())\n",
    "print(model.score(X_train, y_train))"
   ]
  }
 ],
 "metadata": {
  "kernelspec": {
   "display_name": "Python 3",
   "language": "python",
   "name": "python3"
  },
  "language_info": {
   "codemirror_mode": {
    "name": "ipython",
    "version": 3
   },
   "file_extension": ".py",
   "mimetype": "text/x-python",
   "name": "python",
   "nbconvert_exporter": "python",
   "pygments_lexer": "ipython3",
   "version": "3.7.3"
  }
 },
 "nbformat": 4,
 "nbformat_minor": 4
}
